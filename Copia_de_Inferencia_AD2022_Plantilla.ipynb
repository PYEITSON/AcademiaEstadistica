{
  "nbformat": 4,
  "nbformat_minor": 0,
  "metadata": {
    "colab": {
      "provenance": [],
      "authorship_tag": "ABX9TyM/t7Qp7b5/lY1xNJuB23fR",
      "include_colab_link": true
    },
    "kernelspec": {
      "name": "ir",
      "display_name": "R"
    },
    "language_info": {
      "name": "R"
    }
  },
  "cells": [
    {
      "cell_type": "markdown",
      "metadata": {
        "id": "view-in-github",
        "colab_type": "text"
      },
      "source": [
        "<a href=\"https://colab.research.google.com/github/PYEITSON/AcademiaEstadistica/blob/main/Copia_de_Inferencia_AD2022_Plantilla.ipynb\" target=\"_parent\"><img src=\"https://colab.research.google.com/assets/colab-badge.svg\" alt=\"Open In Colab\"/></a>"
      ]
    },
    {
      "cell_type": "markdown",
      "source": [
        "<center>\n",
        "\n",
        "![](https://github.com/MayraDemoss1/Estadistica/blob/main/inferencia.jpg?raw=true)\n",
        "\n",
        "<center/>\n"
      ],
      "metadata": {
        "id": "GGr6chCefABK"
      }
    },
    {
      "cell_type": "markdown",
      "source": [
        "---\n",
        "###**Actividad 3.1.** Inferencia Estadística\n"
      ],
      "metadata": {
        "id": "SD4bs9whfg6e"
      }
    },
    {
      "cell_type": "markdown",
      "source": [
        "**1. ¿Cuál es la estatura de los estudiantes ITSON?**\n",
        "\n",
        "Suponer que se tiene la siguiente población de estudiantes."
      ],
      "metadata": {
        "id": "Ec8lBI63H-wm"
      }
    },
    {
      "cell_type": "code",
      "source": [
        "estatura_poblacional <- c(round(rnorm(8000, 172.0, 35 ), 1),round(rnorm(8000, 160.0, 45 ), 1) )\n",
        "#head(estatura_poblacional)"
      ],
      "metadata": {
        "id": "oxFRDbbKIb46"
      },
      "execution_count": null,
      "outputs": []
    },
    {
      "cell_type": "markdown",
      "source": [
        "Estimar la media poblacional."
      ],
      "metadata": {
        "id": "fim1_z84LMPx"
      }
    },
    {
      "cell_type": "code",
      "source": [
        "mean(estatura_poblacional)"
      ],
      "metadata": {
        "colab": {
          "base_uri": "https://localhost:8080/",
          "height": 34
        },
        "id": "xCF6q0BKLbO0",
        "outputId": "71a363e2-e38a-438f-ae5e-b9fe5542cc50"
      },
      "execution_count": null,
      "outputs": [
        {
          "output_type": "display_data",
          "data": {
            "text/html": [
              "165.47470625"
            ],
            "text/markdown": "165.47470625",
            "text/latex": "165.47470625",
            "text/plain": [
              "[1] 165.4747"
            ]
          },
          "metadata": {}
        }
      ]
    },
    {
      "cell_type": "markdown",
      "source": [
        "**2. Seleccionar muestras de la población.**"
      ],
      "metadata": {
        "id": "XueZuCQSJbAo"
      }
    },
    {
      "cell_type": "code",
      "source": [
        "media_muestral <- mean(sample(estatura_poblacional, 20))\n",
        "media_muestral"
      ],
      "metadata": {
        "colab": {
          "base_uri": "https://localhost:8080/",
          "height": 34
        },
        "id": "O1QXdDM-KEnz",
        "outputId": "5671673c-43c6-41f1-c984-f241fc9f5631"
      },
      "execution_count": null,
      "outputs": [
        {
          "output_type": "display_data",
          "data": {
            "text/html": [
              "162.405"
            ],
            "text/markdown": "162.405",
            "text/latex": "162.405",
            "text/plain": [
              "[1] 162.405"
            ]
          },
          "metadata": {}
        }
      ]
    },
    {
      "cell_type": "markdown",
      "source": [
        "###**Actividad 3.2.** Técnicas de muestreo"
      ],
      "metadata": {
        "id": "2nt9ec19UTff"
      }
    },
    {
      "cell_type": "markdown",
      "source": [
        "| $$Media$$       |$$Proporción$$|\n",
        "|:----------------|:------------|\n",
        "| Población infinita| Población infinita      |\n",
        "|$$n=\\left (\\frac{z _{a/2} \\sigma }{e} \\right )^{2}$$       | $$n= pq\\left (\\frac{z _{\\alpha /2} }{e}\\right )^{2}$$        |\n",
        "| Población finita | Población finita       |\n",
        "| $$n= \\frac{\\left ( Z_{\\alpha/2}\\sigma\\right)^{2}N}{\\left ( Z_{\\alpha/2}\\sigma\\right)^{2} +e^{2}(N-1)}$$| $$n= \\frac{\\left ( z_{\\alpha /2} \\right )^{2}pqN}{e^{2}(N-1) + \\left ( z_{\\alpha /2} \\right )^{2} pq}$$       |\n"
      ],
      "metadata": {
        "id": "m74E4r2lUhNC"
      }
    },
    {
      "cell_type": "markdown",
      "source": [
        "**Ejercicio 1.** Generar muestras utilizando el muestreo aleatorio simple."
      ],
      "metadata": {
        "id": "Rtgx0hXUImhR"
      }
    },
    {
      "cell_type": "code",
      "source": [
        "seleccion_datos <- sample(c(1:16000), 30)\n",
        "head(seleccion_datos) #posición de las personas seleccionadas\n",
        "muestra <- estatura_poblacional[seleccion_datos]\n",
        "muestra\n"
      ],
      "metadata": {
        "colab": {
          "base_uri": "https://localhost:8080/",
          "height": 69
        },
        "id": "eFj6Lo9sJH3O",
        "outputId": "330f67b7-97bb-4f67-fc38-714a93633cd6"
      },
      "execution_count": null,
      "outputs": [
        {
          "output_type": "display_data",
          "data": {
            "text/html": [
              "<style>\n",
              ".list-inline {list-style: none; margin:0; padding: 0}\n",
              ".list-inline>li {display: inline-block}\n",
              ".list-inline>li:not(:last-child)::after {content: \"\\00b7\"; padding: 0 .5ex}\n",
              "</style>\n",
              "<ol class=list-inline><li>13775</li><li>1236</li><li>6185</li><li>11968</li><li>9168</li><li>15754</li></ol>\n"
            ],
            "text/markdown": "1. 13775\n2. 1236\n3. 6185\n4. 11968\n5. 9168\n6. 15754\n\n\n",
            "text/latex": "\\begin{enumerate*}\n\\item 13775\n\\item 1236\n\\item 6185\n\\item 11968\n\\item 9168\n\\item 15754\n\\end{enumerate*}\n",
            "text/plain": [
              "[1] 13775  1236  6185 11968  9168 15754"
            ]
          },
          "metadata": {}
        },
        {
          "output_type": "display_data",
          "data": {
            "text/html": [
              "<style>\n",
              ".list-inline {list-style: none; margin:0; padding: 0}\n",
              ".list-inline>li {display: inline-block}\n",
              ".list-inline>li:not(:last-child)::after {content: \"\\00b7\"; padding: 0 .5ex}\n",
              "</style>\n",
              "<ol class=list-inline><li>124.7</li><li>183.9</li><li>221</li><li>65.3</li><li>292.8</li><li>209.1</li><li>119.8</li><li>235.4</li><li>138</li><li>201.5</li><li>223</li><li>214.7</li><li>176</li><li>196.8</li><li>209.9</li><li>231.8</li><li>138.8</li><li>181.6</li><li>213.9</li><li>175.5</li><li>146</li><li>185.6</li><li>148.8</li><li>135.9</li><li>182.5</li><li>233.8</li><li>178.9</li><li>111.5</li><li>164.3</li><li>145.2</li></ol>\n"
            ],
            "text/markdown": "1. 124.7\n2. 183.9\n3. 221\n4. 65.3\n5. 292.8\n6. 209.1\n7. 119.8\n8. 235.4\n9. 138\n10. 201.5\n11. 223\n12. 214.7\n13. 176\n14. 196.8\n15. 209.9\n16. 231.8\n17. 138.8\n18. 181.6\n19. 213.9\n20. 175.5\n21. 146\n22. 185.6\n23. 148.8\n24. 135.9\n25. 182.5\n26. 233.8\n27. 178.9\n28. 111.5\n29. 164.3\n30. 145.2\n\n\n",
            "text/latex": "\\begin{enumerate*}\n\\item 124.7\n\\item 183.9\n\\item 221\n\\item 65.3\n\\item 292.8\n\\item 209.1\n\\item 119.8\n\\item 235.4\n\\item 138\n\\item 201.5\n\\item 223\n\\item 214.7\n\\item 176\n\\item 196.8\n\\item 209.9\n\\item 231.8\n\\item 138.8\n\\item 181.6\n\\item 213.9\n\\item 175.5\n\\item 146\n\\item 185.6\n\\item 148.8\n\\item 135.9\n\\item 182.5\n\\item 233.8\n\\item 178.9\n\\item 111.5\n\\item 164.3\n\\item 145.2\n\\end{enumerate*}\n",
            "text/plain": [
              " [1] 124.7 183.9 221.0  65.3 292.8 209.1 119.8 235.4 138.0 201.5 223.0 214.7\n",
              "[13] 176.0 196.8 209.9 231.8 138.8 181.6 213.9 175.5 146.0 185.6 148.8 135.9\n",
              "[25] 182.5 233.8 178.9 111.5 164.3 145.2"
            ]
          },
          "metadata": {}
        }
      ]
    },
    {
      "cell_type": "markdown",
      "source": [
        "**Ejercicio 2.** Cambiar el tamaño de muestra y analizar que sucede con la probabilidad cuando $n$ va creciendo. Ejemplificar el lanzamiento de un dado."
      ],
      "metadata": {
        "id": "celNVm_EKUzi"
      }
    },
    {
      "cell_type": "code",
      "source": [
        "dados <- sample(c(1:6),10 , replace = T)\n",
        "#barplot(table(dados)) #El porcentaje debe de estar alrededor de 1/6\n",
        "#round(table(dados)/length(dados), 2)\n",
        "\n",
        "\n",
        "\n"
      ],
      "metadata": {
        "id": "jwntX3Z5KvVV"
      },
      "execution_count": null,
      "outputs": []
    },
    {
      "cell_type": "markdown",
      "source": [
        "**Ejercicio 3.** Generar muestras utilizando el muestreo aleatorio sistemático."
      ],
      "metadata": {
        "id": "TgZNF-MpymH3"
      }
    },
    {
      "cell_type": "markdown",
      "source": [
        "El muestreo sistemático requiere un punto de partida, el cuál es un número aleatorio $0<x<K$.\n",
        "\n",
        "$K$ se calcula de la siguiente manera: $N/n$"
      ],
      "metadata": {
        "id": "qj_7ogS2zsRd"
      }
    },
    {
      "cell_type": "code",
      "source": [
        "#Generar la población.\n",
        "sexo <- sample(c(\"Hombre\", \"Mujer\"), 16000, replace = T, prob= c(0.47, 0.53))\n"
      ],
      "metadata": {
        "id": "7zsyB8bx1xcw"
      },
      "execution_count": null,
      "outputs": []
    },
    {
      "cell_type": "code",
      "source": [
        "# Calcular el valor de K\n",
        "n <- 385\n",
        "N <- 16000\n",
        "k <- floor(N/n)\n",
        "k"
      ],
      "metadata": {
        "colab": {
          "base_uri": "https://localhost:8080/",
          "height": 34
        },
        "id": "gN0aNJto1Brj",
        "outputId": "c4751ce8-d02a-424b-a093-676ed2188cb8"
      },
      "execution_count": null,
      "outputs": [
        {
          "output_type": "display_data",
          "data": {
            "text/html": [
              "41"
            ],
            "text/markdown": "41",
            "text/latex": "41",
            "text/plain": [
              "[1] 41"
            ]
          },
          "metadata": {}
        }
      ]
    },
    {
      "cell_type": "code",
      "source": [
        "# Establecer el punto de partida\n",
        "punto_inicio <- sample(c(1:k), 1)\n",
        "punto_inicio"
      ],
      "metadata": {
        "colab": {
          "base_uri": "https://localhost:8080/",
          "height": 34
        },
        "id": "DNoeVBLT1O-g",
        "outputId": "59a5b86e-3546-4dd9-f415-b562bdfed675"
      },
      "execution_count": null,
      "outputs": [
        {
          "output_type": "display_data",
          "data": {
            "text/html": [
              "8"
            ],
            "text/markdown": "8",
            "text/latex": "8",
            "text/plain": [
              "[1] 8"
            ]
          },
          "metadata": {}
        }
      ]
    },
    {
      "cell_type": "code",
      "source": [
        "# Generar datos de la muestra\n",
        "datos_muestra <- seq(punto_inicio, by = k, length.out = n)\n",
        "head(datos_muestra)\n",
        "muestra_sexo <- sexo[datos_muestra]\n",
        "head(muestra_sexo)"
      ],
      "metadata": {
        "colab": {
          "base_uri": "https://localhost:8080/",
          "height": 52
        },
        "id": "YHBYgSzl1fba",
        "outputId": "f674cd8c-d557-4a72-c73c-b5ca256f9739"
      },
      "execution_count": null,
      "outputs": [
        {
          "output_type": "display_data",
          "data": {
            "text/html": [
              "<style>\n",
              ".list-inline {list-style: none; margin:0; padding: 0}\n",
              ".list-inline>li {display: inline-block}\n",
              ".list-inline>li:not(:last-child)::after {content: \"\\00b7\"; padding: 0 .5ex}\n",
              "</style>\n",
              "<ol class=list-inline><li>8</li><li>49</li><li>90</li><li>131</li><li>172</li><li>213</li></ol>\n"
            ],
            "text/markdown": "1. 8\n2. 49\n3. 90\n4. 131\n5. 172\n6. 213\n\n\n",
            "text/latex": "\\begin{enumerate*}\n\\item 8\n\\item 49\n\\item 90\n\\item 131\n\\item 172\n\\item 213\n\\end{enumerate*}\n",
            "text/plain": [
              "[1]   8  49  90 131 172 213"
            ]
          },
          "metadata": {}
        },
        {
          "output_type": "display_data",
          "data": {
            "text/html": [
              "<style>\n",
              ".list-inline {list-style: none; margin:0; padding: 0}\n",
              ".list-inline>li {display: inline-block}\n",
              ".list-inline>li:not(:last-child)::after {content: \"\\00b7\"; padding: 0 .5ex}\n",
              "</style>\n",
              "<ol class=list-inline><li>'Mujer'</li><li>'Mujer'</li><li>'Mujer'</li><li>'Hombre'</li><li>'Hombre'</li><li>'Hombre'</li></ol>\n"
            ],
            "text/markdown": "1. 'Mujer'\n2. 'Mujer'\n3. 'Mujer'\n4. 'Hombre'\n5. 'Hombre'\n6. 'Hombre'\n\n\n",
            "text/latex": "\\begin{enumerate*}\n\\item 'Mujer'\n\\item 'Mujer'\n\\item 'Mujer'\n\\item 'Hombre'\n\\item 'Hombre'\n\\item 'Hombre'\n\\end{enumerate*}\n",
            "text/plain": [
              "[1] \"Mujer\"  \"Mujer\"  \"Mujer\"  \"Hombre\" \"Hombre\" \"Hombre\""
            ]
          },
          "metadata": {}
        }
      ]
    },
    {
      "cell_type": "markdown",
      "source": [
        "**Ejercicio 4.** Generar muestras utilizando el muestreo aleatorio estratificado."
      ],
      "metadata": {
        "id": "dfhfB-XI3FOV"
      }
    },
    {
      "cell_type": "markdown",
      "source": [
        "Para realizar el muestreo aleatorio estratificado se requiere conocer el tamaño de $N$ , tamaño de $n$ y la población por estrato."
      ],
      "metadata": {
        "id": "SsWGP7fm3m-S"
      }
    },
    {
      "cell_type": "code",
      "source": [
        "# Establecer los estratos\n",
        "mujer <- sexo[sexo == \"Mujer\"]\n",
        "hombre <- sexo[sexo == \"Hombre\"]\n"
      ],
      "metadata": {
        "id": "7Rz9jWC54S0h"
      },
      "execution_count": null,
      "outputs": []
    },
    {
      "cell_type": "code",
      "source": [
        "# Determinar la cantidad de muestra por estrato.\n",
        "n = 385\n",
        "n1 <- (length(mujer)/length(sexo))*n\n",
        "n2 <- (length(hombre)/length(sexo))*n\n",
        "n1\n",
        "n2"
      ],
      "metadata": {
        "colab": {
          "base_uri": "https://localhost:8080/",
          "height": 52
        },
        "id": "DnpiW12J4a2z",
        "outputId": "94671404-89f3-410e-cc1b-89ade7b4866f"
      },
      "execution_count": null,
      "outputs": [
        {
          "output_type": "display_data",
          "data": {
            "text/html": [
              "203.713125"
            ],
            "text/markdown": "203.713125",
            "text/latex": "203.713125",
            "text/plain": [
              "[1] 203.7131"
            ]
          },
          "metadata": {}
        },
        {
          "output_type": "display_data",
          "data": {
            "text/html": [
              "181.286875"
            ],
            "text/markdown": "181.286875",
            "text/latex": "181.286875",
            "text/plain": [
              "[1] 181.2869"
            ]
          },
          "metadata": {}
        }
      ]
    },
    {
      "cell_type": "code",
      "source": [
        "# Seleccionar la muestra utilizando el muestreo aleatorio simple.\n",
        "datos_mujeres <- sample(c(1:8367), 199) # Se generan los números aleatorios\n",
        "muestra_mujeres <- mujer[datos_mujeres]\n",
        "datos_hombres <- sample(c(1:7633), 180) # Segeneran los números aleatorios\n",
        "muestra_hombres <- hombre[datos_hombres]\n",
        "\n",
        "head(muestra_mujeres)\n",
        "head(muestra_hombres)"
      ],
      "metadata": {
        "colab": {
          "base_uri": "https://localhost:8080/",
          "height": 52
        },
        "id": "LmE6bqr24nxa",
        "outputId": "e1869f54-9c31-44b6-90d4-0c5a641dbf4a"
      },
      "execution_count": null,
      "outputs": [
        {
          "output_type": "display_data",
          "data": {
            "text/html": [
              "<style>\n",
              ".list-inline {list-style: none; margin:0; padding: 0}\n",
              ".list-inline>li {display: inline-block}\n",
              ".list-inline>li:not(:last-child)::after {content: \"\\00b7\"; padding: 0 .5ex}\n",
              "</style>\n",
              "<ol class=list-inline><li>'Mujer'</li><li>'Mujer'</li><li>'Mujer'</li><li>'Mujer'</li><li>'Mujer'</li><li>'Mujer'</li></ol>\n"
            ],
            "text/markdown": "1. 'Mujer'\n2. 'Mujer'\n3. 'Mujer'\n4. 'Mujer'\n5. 'Mujer'\n6. 'Mujer'\n\n\n",
            "text/latex": "\\begin{enumerate*}\n\\item 'Mujer'\n\\item 'Mujer'\n\\item 'Mujer'\n\\item 'Mujer'\n\\item 'Mujer'\n\\item 'Mujer'\n\\end{enumerate*}\n",
            "text/plain": [
              "[1] \"Mujer\" \"Mujer\" \"Mujer\" \"Mujer\" \"Mujer\" \"Mujer\""
            ]
          },
          "metadata": {}
        },
        {
          "output_type": "display_data",
          "data": {
            "text/html": [
              "<style>\n",
              ".list-inline {list-style: none; margin:0; padding: 0}\n",
              ".list-inline>li {display: inline-block}\n",
              ".list-inline>li:not(:last-child)::after {content: \"\\00b7\"; padding: 0 .5ex}\n",
              "</style>\n",
              "<ol class=list-inline><li>'Hombre'</li><li>'Hombre'</li><li>'Hombre'</li><li>'Hombre'</li><li>'Hombre'</li><li>'Hombre'</li></ol>\n"
            ],
            "text/markdown": "1. 'Hombre'\n2. 'Hombre'\n3. 'Hombre'\n4. 'Hombre'\n5. 'Hombre'\n6. 'Hombre'\n\n\n",
            "text/latex": "\\begin{enumerate*}\n\\item 'Hombre'\n\\item 'Hombre'\n\\item 'Hombre'\n\\item 'Hombre'\n\\item 'Hombre'\n\\item 'Hombre'\n\\end{enumerate*}\n",
            "text/plain": [
              "[1] \"Hombre\" \"Hombre\" \"Hombre\" \"Hombre\" \"Hombre\" \"Hombre\""
            ]
          },
          "metadata": {}
        }
      ]
    },
    {
      "cell_type": "markdown",
      "source": [
        "**Ejercicio 3.**Calcular el tamaño de la muestra necesario para estimar la estatura promedio de los estudiantes de Itson, generando un muestra piloto de 30 obseraciones, un nivel de confianza del 95% y error del 5%\n",
        "\n",
        "$$ n = \\frac{(Z_{\\alpha/2})^{2}\\sigma^{2}}{e^2} $$\n"
      ],
      "metadata": {
        "id": "x8hFGinQPdJg"
      }
    },
    {
      "cell_type": "code",
      "source": [
        "#Generar datos para la prueba piloto.\n",
        "muestra_piloto <- sample(estatura_poblacional, 30)\n",
        "\n",
        "#Estimarla varianza \n",
        "varianza <- var(muestra_piloto)\n",
        "\n",
        "# Calcular el error\n",
        "error <- mean(muestra_piloto)*0.05\n",
        "\n",
        "# Calcular el valor valor Za/2 para un NC= 0.95\n",
        "NC <- 0.95\n",
        "Z <- qnorm(NC + (1 - NC)/2, 0, 1)\n",
        "n <- (Z^2*varianza)/error^2\n",
        "n\n",
        "\n"
      ],
      "metadata": {
        "id": "eIJoLd2LPlH3"
      },
      "execution_count": null,
      "outputs": []
    },
    {
      "cell_type": "markdown",
      "source": [
        "**Realizar la selección del tamaño de muestra.**"
      ],
      "metadata": {
        "id": "HcQf27jkR0K0"
      }
    },
    {
      "cell_type": "code",
      "source": [
        "muestra_estatura <- sample(estatura_poblacional, 15)\n",
        "mean(muestra_estatura)"
      ],
      "metadata": {
        "id": "6ZRkRk1kSO4s"
      },
      "execution_count": null,
      "outputs": []
    },
    {
      "cell_type": "markdown",
      "source": [
        "###**Actividad 3.3.** Estimación del tamaño de muestra."
      ],
      "metadata": {
        "id": "GRnLFsGOlWFh"
      }
    },
    {
      "cell_type": "markdown",
      "source": [
        "**1. Estimar el tamaño de muestra para los diferentes valores que puede tomar la propoción.**"
      ],
      "metadata": {
        "id": "x3sE1e6Omrem"
      }
    },
    {
      "cell_type": "markdown",
      "source": [
        "$$ n = \\frac{(Z_{\\alpha/2})^{2}\\hat{p}(1-\\hat{p})}{e^{2}}$$"
      ],
      "metadata": {
        "id": "WNmNT-vETPcJ"
      }
    },
    {
      "cell_type": "code",
      "source": [
        "p <- seq(.1, .90, 0.1)\n",
        "q <- 1 - p\n",
        "e <- 0.05\n",
        "NC <- .95\n",
        "Z <- 1.96\n",
        "\n",
        "n <- round((p*(1-p)*Z^2)/e^2, 1)\n",
        "n\n",
        "\n",
        "datos_p <- data.frame(p, q, n)\n"
      ],
      "metadata": {
        "colab": {
          "base_uri": "https://localhost:8080/",
          "height": 34
        },
        "id": "ptk78wnVm3oP",
        "outputId": "eca0646c-3cea-4ba8-fe22-ad3a420ea8c9"
      },
      "execution_count": null,
      "outputs": [
        {
          "output_type": "display_data",
          "data": {
            "text/html": [
              "<style>\n",
              ".list-inline {list-style: none; margin:0; padding: 0}\n",
              ".list-inline>li {display: inline-block}\n",
              ".list-inline>li:not(:last-child)::after {content: \"\\00b7\"; padding: 0 .5ex}\n",
              "</style>\n",
              "<ol class=list-inline><li>138.3</li><li>245.9</li><li>322.7</li><li>368.8</li><li>384.2</li><li>368.8</li><li>322.7</li><li>245.9</li><li>138.3</li></ol>\n"
            ],
            "text/markdown": "1. 138.3\n2. 245.9\n3. 322.7\n4. 368.8\n5. 384.2\n6. 368.8\n7. 322.7\n8. 245.9\n9. 138.3\n\n\n",
            "text/latex": "\\begin{enumerate*}\n\\item 138.3\n\\item 245.9\n\\item 322.7\n\\item 368.8\n\\item 384.2\n\\item 368.8\n\\item 322.7\n\\item 245.9\n\\item 138.3\n\\end{enumerate*}\n",
            "text/plain": [
              "[1] 138.3 245.9 322.7 368.8 384.2 368.8 322.7 245.9 138.3"
            ]
          },
          "metadata": {}
        }
      ]
    },
    {
      "cell_type": "markdown",
      "source": [
        "**2. Realizar un gráfico con las proporciones.**"
      ],
      "metadata": {
        "id": "sFuiMm6NJqeH"
      }
    },
    {
      "cell_type": "code",
      "source": [
        "barplot(n, names.arg=p, ylim=c(0,400))"
      ],
      "metadata": {
        "id": "bFsioRbSJ0AV"
      },
      "execution_count": null,
      "outputs": []
    },
    {
      "cell_type": "markdown",
      "source": [
        "**Nivel de Confianza (NC)**\n",
        "\n",
        "<center>\n",
        "\n",
        "![](https://raw.githubusercontent.com/MayraDemoss1/Estadistica/e64ea769b61a5d985f8ca0e9d8e9993587a675e7/NC.png) \n",
        "\n",
        "<center/>\n",
        "\n",
        "\n",
        "\n",
        " "
      ],
      "metadata": {
        "id": "6QkFJDZwjwU6"
      }
    },
    {
      "cell_type": "markdown",
      "source": [
        "$ NC + \\alpha = 1$, despejando $\\alpha$  tenemos \n",
        " \n",
        " $\\alpha = 1 - NC $, como el nivel de confianza es el área sombreada, nos quedan dos zonas para el valor de $\\alpha$ y dividimos entre 2, por lo tanto la probabilidad de la izquierda es $\\frac{\\alpha}{2}$: \n",
        " \n",
        "$$\\frac{\\alpha}{2} + NC + \\frac{\\alpha}{2} = 1$$\n",
        "\n",
        "Si queremos saber el valor de Z, utilizamos la función normal inversa de la siguiente manera:"
      ],
      "metadata": {
        "id": "aBb-rNDmMp3w"
      }
    },
    {
      "cell_type": "code",
      "source": [
        "NC <- 0.95\n",
        "alfa_2 <- (1 - NC)/2\n",
        "Z_alfa_2 <- qnorm(alfa_2, 0, 1)\n",
        "Z_alfa_2"
      ],
      "metadata": {
        "colab": {
          "base_uri": "https://localhost:8080/",
          "height": 34
        },
        "id": "V0DPGXXskpSe",
        "outputId": "81f641cc-7434-49d6-d5e2-3b6063636fe7"
      },
      "execution_count": null,
      "outputs": [
        {
          "output_type": "display_data",
          "data": {
            "text/html": [
              "-1.95996398454005"
            ],
            "text/markdown": "-1.95996398454005",
            "text/latex": "-1.95996398454005",
            "text/plain": [
              "[1] -1.959964"
            ]
          },
          "metadata": {}
        }
      ]
    },
    {
      "cell_type": "markdown",
      "source": [
        "Se obtuvo el valor de $Z_{\\alpha/2}$ del lado izquierdo de la distribución es por eso que se obtuvo un valor negativo. Si queremos obtener el valor del lado derecho debemos de sumar el $NC$, por lo tanto tenemos:"
      ],
      "metadata": {
        "id": "QGHwIfz6kwrn"
      }
    },
    {
      "cell_type": "code",
      "source": [
        "NC <- 0.95\n",
        "alfa_2 <- (1 - NC)/2\n",
        "Z_alfa_2 <- qnorm(NC + alfa_2, 0, 1)\n",
        "Z_alfa_2"
      ],
      "metadata": {
        "colab": {
          "base_uri": "https://localhost:8080/",
          "height": 34
        },
        "id": "wFW-2rk7k0sh",
        "outputId": "14d0f8e7-92b6-4dae-9359-ec483578d4f3"
      },
      "execution_count": null,
      "outputs": [
        {
          "output_type": "display_data",
          "data": {
            "text/html": [
              "1.95996398454005"
            ],
            "text/markdown": "1.95996398454005",
            "text/latex": "1.95996398454005",
            "text/plain": [
              "[1] 1.959964"
            ]
          },
          "metadata": {}
        }
      ]
    },
    {
      "cell_type": "markdown",
      "source": [
        "**3. Utilizar software para realizar una prueba piloto y estimar la proporción de \"Hombres\".****"
      ],
      "metadata": {
        "id": "ICrcUnmaOMPb"
      }
    },
    {
      "cell_type": "code",
      "source": [
        "seleccion_datos <- sample(c(1:16000), 30)\n",
        "#head(seleccion_datos) #posición de las personas seleccionadas\n",
        "muestra_p <- sexo[seleccion_datos]"
      ],
      "metadata": {
        "id": "74aF03LZOe5G"
      },
      "execution_count": null,
      "outputs": []
    },
    {
      "cell_type": "markdown",
      "source": [
        "**a) Calcular el valor de la proporción de la muestra piloto.**"
      ],
      "metadata": {
        "id": "R6akH-LZOh1_"
      }
    },
    {
      "cell_type": "code",
      "source": [
        "seleccion_datos <- sample(c(1:16000), 30)\n",
        "#head(seleccion_datos) #posición de las personas seleccionadas\n",
        "muestra_p <- sexo[seleccion_datos]"
      ],
      "metadata": {
        "id": "PVhscKjbOvlR"
      },
      "execution_count": null,
      "outputs": []
    },
    {
      "cell_type": "markdown",
      "source": [
        "**b) Estimar el tamaño de muestra considerando un NC=95% y un error del 5%.**"
      ],
      "metadata": {
        "id": "VH_hkppUOzE1"
      }
    },
    {
      "cell_type": "code",
      "source": [
        "p <- length(muestra_p[muestra_p == \"Hombre\"])/length(muestra_p)\n",
        "e <- 0.05\n",
        "NC <- 0.95\n",
        "alfa_2 <- (1 - NC)/2\n",
        "Z_alfa_2 <- qnorm(NC + alfa_2, 0, 1)\n",
        "\n",
        "n = (Z_alfa_2^2*p*(1-p))/e^2\n",
        "n"
      ],
      "metadata": {
        "id": "epkbJI6nPRBU"
      },
      "execution_count": null,
      "outputs": []
    },
    {
      "cell_type": "markdown",
      "source": [
        "**c) Realizar la selección de la muestra y calcular la proporción**"
      ],
      "metadata": {
        "id": "EJ2Qsr0FPky5"
      }
    },
    {
      "cell_type": "code",
      "source": [
        "muestra_s <- sample(sexo, 357)\n",
        "\n",
        "p <- length(muestra_s[muestra_s == \"Hombre\"])/length(muestra_s)\n",
        "p"
      ],
      "metadata": {
        "colab": {
          "base_uri": "https://localhost:8080/",
          "height": 131
        },
        "id": "a7AQAFcgPp3t",
        "outputId": "ac25dd7e-0533-43a1-d88b-3ec012dad396"
      },
      "execution_count": null,
      "outputs": [
        {
          "output_type": "error",
          "ename": "ERROR",
          "evalue": "ignored",
          "traceback": [
            "Error in sample(sexo, 357): object 'sexo' not found\nTraceback:\n",
            "1. sample(sexo, 357)"
          ]
        }
      ]
    },
    {
      "cell_type": "markdown",
      "source": [
        "**4. Etimar el tamaño de muestra para los siguientes ejercicios:**"
      ],
      "metadata": {
        "id": "50oxkMF3P2gH"
      }
    },
    {
      "cell_type": "markdown",
      "source": [
        "**a) Un fabricante de bombillas sabe que la desviación típica de la duración de las bombillas es 100 horas. Calcula el tamaño de la muestra que se ha de someter a prueba para tener una confianza del 95% de que el error de la duración media que se calcula sea menor a 10 horas. (n= 385 bombillas)**"
      ],
      "metadata": {
        "id": "KoxzcjRlP_qv"
      }
    },
    {
      "cell_type": "code",
      "source": [],
      "metadata": {
        "id": "wc-emqyhQE4b"
      },
      "execution_count": null,
      "outputs": []
    },
    {
      "cell_type": "markdown",
      "source": [
        "**b) Para estimar la proporción de habitantes de una ciudad que poseen ordenador personal se toma una muestra de tamaño $n$. Calcula el valor mínimo de $n$ para garantizar, con un nivel de confianza del 95%, que el error de estimación no supera el 2%. (Como se desconoce la proporción, se hará partir del caso más desfavorable, que será 0,5). (n= 2401 habitantes)**"
      ],
      "metadata": {
        "id": "5mazOXqjQFpr"
      }
    },
    {
      "cell_type": "code",
      "source": [],
      "metadata": {
        "id": "87k8vnILQLWQ"
      },
      "execution_count": null,
      "outputs": []
    },
    {
      "cell_type": "markdown",
      "source": [
        "**c) Se desea realizar una encuesta entre la población juvenil de una determinada localidad para determinar la proporción de jóvenes que estaría a favor de una nueva zona de ocio. El número de jóvenes de dicha población es N=2000. Determinar el tamaño de muestra necesario para estimar la proporción de estudiantes que están a favor con un error de estimación de 0.05 y un nivel de confianza del 95%. (n= 323 jóvenes)**"
      ],
      "metadata": {
        "id": "rGgZomawQLxN"
      }
    },
    {
      "cell_type": "code",
      "source": [],
      "metadata": {
        "id": "FjDniY7AQSSH"
      },
      "execution_count": null,
      "outputs": []
    },
    {
      "cell_type": "markdown",
      "source": [
        "**d) Queremos ajustar una máquina de refrescos de modo que el promedio del líquido dispensado quede dentro de cierto rango. La cantidad de liquido vertido por la máquina sigue una distribución normal con desviación estándar 0.15 decilitros. Deseamos que el valor estimado que se vaya a obtener comparado con el verdadero no sea superior a 0.02 decilitros con una confianza del 95%.¿De qué tamaño debemos escoger la muestra? (n= 217 refrescos)**"
      ],
      "metadata": {
        "id": "LMRI4ZfRQS2R"
      }
    },
    {
      "cell_type": "code",
      "source": [],
      "metadata": {
        "id": "Y5GcgMhyQb0Q"
      },
      "execution_count": null,
      "outputs": []
    }
  ]
}