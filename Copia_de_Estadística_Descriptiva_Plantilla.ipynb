{
  "nbformat": 4,
  "nbformat_minor": 0,
  "metadata": {
    "colab": {
      "provenance": [],
      "include_colab_link": true
    },
    "kernelspec": {
      "name": "ir",
      "display_name": "R"
    },
    "language_info": {
      "name": "R"
    }
  },
  "cells": [
    {
      "cell_type": "markdown",
      "metadata": {
        "id": "view-in-github",
        "colab_type": "text"
      },
      "source": [
        "<a href=\"https://colab.research.google.com/github/PYEITSON/AcademiaEstadistica/blob/main/Copia_de_Estad%C3%ADstica_Descriptiva_Plantilla.ipynb\" target=\"_parent\"><img src=\"https://colab.research.google.com/assets/colab-badge.svg\" alt=\"Open In Colab\"/></a>"
      ]
    },
    {
      "cell_type": "markdown",
      "source": [
        "![](https://github.com/MayraDemoss1/Estadistica/blob/main/baner_taller_r.jpg?raw=true)"
      ],
      "metadata": {
        "id": "V1yr1DbuA5ge"
      }
    },
    {
      "cell_type": "markdown",
      "metadata": {
        "id": "RBgunQAqYHN6"
      },
      "source": [
        "<div style=\"text-align: justify\">\n",
        "\n",
        "Las herramientas de la Estadística descriptiva se encargan de organizar, presentar y describir un conjunto de datos para tomar decisiones. Principalmente son tablas, gráficas y ciertas cantidades numéricas.\n",
        "\n",
        "Recordar en lo sucesivo que habrá ocasiones en las que los datos a describir forman parte de una muestra y que en otras ocasiones pueden ser la población de interés y que por lo tanto el nombre y la forma en que se definen las cantidades numéricas varía.\n",
        "\n",
        "<div/>\n",
        "\n",
        "<center>\n",
        "\n",
        "|Parámetro|Estimador||\n",
        "|--- |--- |---|\n",
        "|$\\mu$|$\\overline{x}$|Promedio|\n",
        "|$P$|$\\hat{p}$|Proporción|\n",
        "|$\\sigma^2$ | $s^2$|Varianza|\n",
        "|$P_j$|$p_j$|Percentil|\n",
        "|$\\tau$|$t$|Total|\n",
        "\n",
        "</center>\n",
        "\n",
        "##**Las seis características de los datos**\n",
        "\n",
        "<div style=\"text-align: justify\">\n",
        "\n",
        "En estas notas se estudian las herramientas estadísticas esenciales en el análisis descriptivo de los datos, considerando las seis siguientes caractarísticas, y que además permitirán una buena selección de las herramientas de la inferencia estadística. \n",
        "\n",
        "<div/>\n",
        "\n",
        "1. Localización o ubicación\n",
        "2. Dispersión, variabilidad o heterogeneidad\n",
        "3. Distribución de frecuencias o forma de la distribución\n",
        "4. Valores extremos o atípicos (outliers) \n",
        "5. Agrupamientos (clustering)\n",
        "6. Correlación\n",
        "\n",
        "---\n",
        "### **Actividad 1.3.** Descripción de los datos utilizando medidas de localización.\n",
        "\n",
        "<div style=\"text-align: justify\">\n",
        "\n",
        "**Ejercicio 1.** El conjunto de datos adjunto consiste en observaciones de resistencia al esfuerzo cortante (lb) de soldaduras de puntos ultrasónicos aplicados en un cierto tipo de lámina alclad.\n",
        "\n",
        "<div/>\n",
        "\n",
        "<center>\n",
        "\n",
        "|Resistencia al esfuerzo cortante (lb)                              \n",
        ":-----------------------------------------------------\n",
        "|5434, 4948, 4521, 4570, 4990, 5702, 5241,5112, 5015,4659, 4806, 4637, 5670, 4381, 4820, 5043, 4886, 4599,|\n",
        "|5288, 5299, 4848, 5378, 5260, 5055, 5828, 5218, 4859,4780, 5027, 5008, 4609, 4772, 5133, 5095, 4618, 4848,|\n",
        "|5089, 5518, 5333, 5164, 5342, 5069, 4755, 4925, 5001,5621, 4918, 4974, 4592, 5207, 5173, 4568, 5245, 4723,|\n",
        "|5555, 5388, 5049, 4493, 5309, 5640, 5069, 4803,5188,4951, 4740, 5138, 4786, 4173, 5296, 5653, 5078,5764,|\n",
        "|5248, 5275, 5419, 5498, 4681, 5582, 4308, 5227,5679,5256, 4500, 5461, 4931, 4965, 5170, 4900, 4968,5205,|\n",
        "|4452, 5364, 5076, 4774, 4823, 4417, 5273, 5042,5189, 4986|\n",
        "</center>\n",
        "\n",
        "\n",
        "\n",
        "\n",
        "\n",
        "\n",
        "\n",
        "\n",
        "\n",
        "\n",
        "\n",
        "\n",
        "\n",
        "\n",
        "\n",
        "\n"
      ]
    },
    {
      "cell_type": "markdown",
      "source": [
        "**a) Crear el vector \"resistencia\"**"
      ],
      "metadata": {
        "id": "O8SUpdJ2MKVh"
      }
    },
    {
      "cell_type": "code",
      "source": [
        "#Vector resistencia\n",
        "\n"
      ],
      "metadata": {
        "id": "ixmf4yuGHpFT"
      },
      "execution_count": null,
      "outputs": []
    },
    {
      "cell_type": "markdown",
      "source": [
        "###**Medidas de localización:**\n",
        "\n",
        "####**-Valor mínimo**\n",
        "\n",
        "####**-Valor máximo**\n",
        "\n",
        "####**-Tendencia central**\n",
        "##### **Media, promedio, media aritmética o valor esperado (esperanza matemática)**\n",
        "\n",
        "$$Media \\: muestral = \\bar{x} = \\frac{1}{n} \\sum_{i=1}^{n}{x_i} $$\n",
        "$$Media \\: poblacional = \\mu = \\frac{1}{N} \\sum_{i=1}^{N}{X_i} $$\n",
        "\n",
        "####**Mediana.**\n",
        "\n",
        " <center>Si n es impar: $$X_{(n+1/2)}$$  \n",
        "\n",
        "Si n es par:$$\\frac{1}{2}(X_{(n/2)}+ X_{(n/2+1)}) $$ \n",
        "</center>  \n",
        "\n",
        "\n",
        "\n",
        "####**Moda**\n",
        "Es el valor que aparece con mayor frecuencia en el conjunto de datos.\n",
        "\n"
      ],
      "metadata": {
        "id": "--e6WLDCI-fy"
      }
    },
    {
      "cell_type": "markdown",
      "source": [
        "**b) Identificar valor mínimo y máximo**\n",
        "\n",
        "\n",
        "```\n",
        "sort(vector) #ordena los datos de menor a mayor.\n",
        "sort(vector,decreasing = T) #Ordena los datos de mayor a menor.\n",
        "\n",
        "min(vector) #Devuelve el número menor.\n",
        "max(vector) #Devuelve el número mayor.\n",
        "```\n",
        "\n"
      ],
      "metadata": {
        "id": "2JYmFqcLre63"
      }
    },
    {
      "cell_type": "code",
      "source": [
        "\n"
      ],
      "metadata": {
        "id": "TuXfsCd-rmO3"
      },
      "execution_count": null,
      "outputs": []
    },
    {
      "cell_type": "markdown",
      "source": [
        "**c) Estimar las medidas de T.C**\n",
        "\n",
        "```\n",
        "sum(vector) #Suma los datos contenidos en el vector.\n",
        "length(vector) #Cuenta el número de datos que hay en el vector.\n",
        "\n",
        "```\n",
        "\n"
      ],
      "metadata": {
        "id": "l4iiKSXZL_03"
      }
    },
    {
      "cell_type": "markdown",
      "source": [
        "**Media** ="
      ],
      "metadata": {
        "id": "yRP0tbqpzkgx"
      }
    },
    {
      "cell_type": "code",
      "source": [
        "#Sumar todos los datos\n",
        "\n",
        "\n",
        "#Dividir entre el total de datos (n)\n",
        "# Cuántos datos son? \n",
        "\n",
        "\n",
        "\n"
      ],
      "metadata": {
        "id": "ABsPwOkSO8fm"
      },
      "execution_count": null,
      "outputs": []
    },
    {
      "cell_type": "markdown",
      "source": [
        "**Mediana**= 5052\n",
        "\n",
        "Si n es impar:$X_{(n+1/2)}$  \n",
        "\n",
        "Si n es par:$\\frac{1}{2}(X_{(n/2)}+ X_{(n/2+1)}) $\n"
      ],
      "metadata": {
        "id": "DyUZw9tj1x5P"
      }
    },
    {
      "cell_type": "code",
      "source": [
        "#Ordenar los datos (ascendente)\n",
        "\n",
        "\n",
        "#Ordenar los datos (descendente)\n",
        "#sort(resistencia,decreasing = T)\n",
        "\n",
        "# n es par? \n"
      ],
      "metadata": {
        "id": "mPy_LHOk16cE"
      },
      "execution_count": null,
      "outputs": []
    },
    {
      "cell_type": "markdown",
      "source": [
        "**Moda=** \n",
        "\n",
        "\n",
        "```\n",
        "table #Muestra la frecuencia absoluta de cada uno de los valores del vector.\n",
        "```\n",
        "\n"
      ],
      "metadata": {
        "id": "_oi0m9p45-sJ"
      }
    },
    {
      "cell_type": "code",
      "source": [
        "#Elaborar tabla con las frecuencias\n",
        "\n"
      ],
      "metadata": {
        "id": "pM8-FIkqnF8E"
      },
      "execution_count": null,
      "outputs": []
    },
    {
      "cell_type": "markdown",
      "source": [
        "**d) Realizar un bosquejo de la posible distribución de los datos.**"
      ],
      "metadata": {
        "id": "3qzspkljPM2s"
      }
    },
    {
      "cell_type": "markdown",
      "source": [
        "**Ejercicio 2.** Datos sobre fuerza adhesiva:\n",
        "\n",
        "|Fuerza adhesiva                             \n",
        ":-----------------------------------------------------\n",
        "|11.5, 12.1, 25.5, 7.8, 6.2, 5.7, 5.4, 5.1, 4.9, 10.7, 3.6,|\n",
        "| 3.4, 13.8, 20.6, 12.6, 5.2, 5.5, 5.1, 5.2, 4.8, 7.1, 5.2,|\n",
        "|3.5, 3.8, 4.5, 4.9, 15.5, 16.2, 18.3, 11.5|\n",
        "\n",
        " \n",
        "\n"
      ],
      "metadata": {
        "id": "-PHE3LJmPXxY"
      }
    },
    {
      "cell_type": "markdown",
      "source": [
        "**a) Elaborar Histograma.**\n",
        "\n",
        "\n",
        "\n",
        "```\n",
        "1. Estimar el número de intervalos (N.I)\n",
        "2. Estimar Aplitud de clase (A.C)\n",
        "3. Generar los intervalos.\n",
        "4. Utilizar la función \"hist\" para elaborar el histograma.\n",
        "5. Utilizar el siguiente código para generar un histógrama con intervalos específicos.\n",
        "hist(vector,breaks=c(intervalos),freq=T,labels = F)\n",
        "```\n",
        "\n",
        "|Medida|Estimador||\n",
        "|--- |--- |---|\n",
        "|Número de Intervalos|$$NI=\\sqrt{n}\\space\\space$$|$$NI=3.3\\space log(n)\\space + 1$$|\n",
        "|Amplitud de Intervalo|$$ AI=\\frac{Rango}{N.I}$$|\n",
        "\n",
        "\n",
        "\n",
        "\n"
      ],
      "metadata": {
        "id": "gE5ApMpauJ4q"
      }
    },
    {
      "cell_type": "markdown",
      "source": [
        "**a) Crear el vector \"fuerza\".**"
      ],
      "metadata": {
        "id": "7aHqKDsI5xlH"
      }
    },
    {
      "cell_type": "code",
      "source": [],
      "metadata": {
        "id": "Cqxo38Sn6AW7"
      },
      "execution_count": null,
      "outputs": []
    },
    {
      "cell_type": "markdown",
      "source": [
        "**b)Estimar el N.I.** ="
      ],
      "metadata": {
        "id": "H4BTybLC6CTL"
      }
    },
    {
      "cell_type": "code",
      "source": [
        "# Cuántos datos son? = \n",
        "\n",
        "\n",
        "#Estimar número de intervalos\n"
      ],
      "metadata": {
        "id": "XKREMZ0C6L79"
      },
      "execution_count": null,
      "outputs": []
    },
    {
      "cell_type": "markdown",
      "source": [
        "**c)Estimar la A.I.**"
      ],
      "metadata": {
        "id": "vA7HQs616NSi"
      }
    },
    {
      "cell_type": "code",
      "source": [
        "# AI= Rango / NI =3.7\n",
        "\n",
        "\n"
      ],
      "metadata": {
        "id": "lJhRfUUK6VTn"
      },
      "execution_count": null,
      "outputs": []
    },
    {
      "cell_type": "markdown",
      "source": [
        "**d)Generar los intervlos.**"
      ],
      "metadata": {
        "id": "RPAtmRc56YVJ"
      }
    },
    {
      "cell_type": "code",
      "source": [],
      "metadata": {
        "id": "eryzxgDg6fU6"
      },
      "execution_count": null,
      "outputs": []
    },
    {
      "cell_type": "markdown",
      "source": [
        "**e)Crear un vector que contenga los intervalos.**\n",
        "\n",
        "```\n",
        "El vector se puede crear con los datos númericos o como etiquetas de texto.\n",
        "\n",
        "*   Datos númericos # intervalos <-c(5,10,15,20,25)\n",
        "*  Etiquetas  de texto # intervalos <- c('[5,10'),'[10,15)','[15,20)')\n",
        "\n",
        "\n",
        "```\n",
        "\n"
      ],
      "metadata": {
        "id": "D_Xfat3hu_1H"
      }
    },
    {
      "cell_type": "code",
      "source": [],
      "metadata": {
        "id": "-D4v_5zGvL1m"
      },
      "execution_count": null,
      "outputs": []
    },
    {
      "cell_type": "markdown",
      "source": [
        "**e)Crear el vector que contenga la frecuencia Absoluta (F.A).**\n",
        "\n",
        "```\n",
        "El siguiente código permite contar cuantos datos entran en cada intervalo de acuerdo al criterio seleccionado.\n",
        "\n",
        "Paso1.Tabla1 <- cut(vector,\n",
        "      breaks=c(intervalos separados por coma),\n",
        "      right=F)\n",
        "\n",
        "Paso 2. frecuencia_absoluta <- table(Tabla1)\n",
        "frecuencia_absoluta\n",
        "\n",
        "También se puede obtener la frecuencia relativa de la siguiente manera:\n",
        "\n",
        "frecuencia_relativa <- frecuencia_absoluta/n*100\n",
        "frecuencia_relativa\n",
        "\n",
        "3. Crear el vector frecuencia_absoluta_f\n",
        "\n",
        "\n",
        "```\n",
        "\n"
      ],
      "metadata": {
        "id": "gIGRp61GckaK"
      }
    },
    {
      "cell_type": "code",
      "source": [],
      "metadata": {
        "id": "RPVFbXfZc2Ht"
      },
      "execution_count": null,
      "outputs": []
    },
    {
      "cell_type": "markdown",
      "source": [
        "**h) Elaborar histógrama de la fuerza adhesiva**.\n",
        "\n",
        "```\n",
        "Utilizar la función hist.\n",
        "\n",
        "Ejemplo:\n",
        "hist(vector,\n",
        "     main= 'Título',\n",
        "     xlab='Título eje X',\n",
        "     ylab='título eje Y',\n",
        "     breaks=c( ),\n",
        "     xaxt='n',yaxt='n',\n",
        "     labels = T,\n",
        "     col='dark orange',\n",
        "     right = F)\n",
        "    \n",
        "axis(side = 1, at = c(breaks))\n",
        "axis(side = 2, at = seq(0,20,2))\n",
        "\n"
      ],
      "metadata": {
        "id": "qzYmzbrgnOlM"
      }
    },
    {
      "cell_type": "code",
      "source": [
        "#Elaborar histograma\n",
        "\n",
        "   "
      ],
      "metadata": {
        "id": "Hs3eXuNyncf3"
      },
      "execution_count": null,
      "outputs": []
    },
    {
      "cell_type": "markdown",
      "source": [
        "**i)Describir la gráfica.**"
      ],
      "metadata": {
        "id": "YUQTiW3AOdr4"
      }
    },
    {
      "cell_type": "markdown",
      "source": [
        "###**Actividad 1.6.** Descripción de los datos utilizando un gráfico."
      ],
      "metadata": {
        "id": "tLL9FeowX6Cr"
      }
    },
    {
      "cell_type": "markdown",
      "source": [
        "La palabra cuantil viene de la palabra cantidad. En términos simples, un cuantil es cuando se divide al conjunto de datos en subgrupos adyacentes de igual tamaño. Específicamente, los cuantiles reciben diferentes nombres en función de la cantidad de partes en que se divide a los datos. ​\n",
        "\n",
        "​Por ejemplo, cuando se divide a los datos en 100 partes iguales, los cuantiles se denominan percentiles y se identifican con la notación Pj (con 0 < j < 1) y cuando la división es en 4 partes se llaman Cuartiles y se identifican con Qk (k=1,2,3)​\n",
        "\n",
        "​Hay varios métodos para el cálculo de los cuantiles.​\n",
        "\n",
        "En R, el método dos consiste en:​\n",
        "\n",
        "Ordenar datos​\n",
        "\n",
        "Calcular n*j​\n",
        "\n",
        "- Si n*j no es entero, entonces redondear n*j al entero inmediato poterior.\n",
        "- Si n*j es entero entonces $$P_j= \\frac{1}{2}(X_{nj} + X_{nj} + 1)$$"
      ],
      "metadata": {
        "id": "f5Z5sSlbZ4BL"
      }
    },
    {
      "cell_type": "markdown",
      "source": [
        "Existe una creciente preocupación en los Estados Unidos debido a que no se gradúan suficientes estudiantes de la universidad. Los Estados Unidos solía ser el número 1 en el mundo en porcentaje de adultos con títulos universitarios, pero recientemente ha descendido al lugar 16. Aquí se presentan datos del procentaje de personas de entre 25 y 34 años de edad en cada estado que tenían algún tipo de grado de educación suerior, a partir de 2010 (se enumeran en orden alfabético, se incluyen el distrito de Columbia):\n",
        "\n",
        "31.5, 32.9, 33.0, 28.6, 37.9, 43.3, 45.9, 37.2, 68.8, 36.0, 35.5, 40.5, 37.2, 45.3, 36.1, 45.5, 42.3, 33.3, 30.3, 37.2, 45.5, 54.3, 37.2, 49.8, 32.1, 39.3, 40.3, 44.2, 28.4, 46.0, 47.2, 28.7, 49.6, 37.6, 50.8, 38.0, 30.8, 37.6, 43.9, 42.5, 35.2, 42.2, 32.8, 32.2, 38.5, 44.5, 44.6, 40.9, 29.5, 41.3, 35.5\n"
      ],
      "metadata": {
        "id": "Q70CNdwKYRsU"
      }
    },
    {
      "cell_type": "markdown",
      "source": [
        "**a) ¿Existen datos atípicos? ¿Qué porcentaje representan?**\n",
        "\n",
        "Los valores atípicos(outliers) son observaciones que se encuentra alejada del resto de los datos.\n",
        "Se puede estimar a partir de que observación se podrían tener valores atípicos como se muestra a continuación:\n",
        "\n",
        "$Li = Q1 - 1.5RI$\n",
        "\n",
        "$Ls = Q3 + 1.5 RI$\n",
        "\n",
        "$RI= Rango\\hspace{0.2 cm} intercuartil$\n",
        "$RI= Q3 - Q1 $"
      ],
      "metadata": {
        "id": "K04p-06XYfOl"
      }
    },
    {
      "cell_type": "code",
      "source": [
        "#Crear vector \"titulo\"\n",
        "\n",
        "#Ordenar los datos.\n",
        "\n",
        "\n",
        "# Para construir el boxplot se necesitan 5 estadisticos (minimo, Q1, Mediana, Q3, Maximo)\n",
        "# Valor minimo y maximo = "
      ],
      "metadata": {
        "id": "dE1Iuy0GYmmP"
      },
      "execution_count": null,
      "outputs": []
    },
    {
      "cell_type": "code",
      "source": [
        "# Estimar el Q1 = n*j = \n",
        "# Cuantos datos son?\n",
        "\n",
        "\n",
        "# Posiscion de Q1= , Valor de Q1= "
      ],
      "metadata": {
        "id": "dY0preBLxvlE"
      },
      "execution_count": null,
      "outputs": []
    },
    {
      "cell_type": "code",
      "source": [
        "# Estimar el valor de la mediana o Q2= n*j = \n",
        "\n",
        "# Posiscion del Q2= , el valor Q2="
      ],
      "metadata": {
        "id": "Wff8I-9IyxL9"
      },
      "execution_count": null,
      "outputs": []
    },
    {
      "cell_type": "code",
      "source": [
        "#Estimar el valor de Q3=n*j = \n",
        "\n",
        "#Posiscion del Q3= , valor Q3="
      ],
      "metadata": {
        "id": "pVqbnSn-zJKU"
      },
      "execution_count": null,
      "outputs": []
    },
    {
      "cell_type": "code",
      "source": [
        "# Estimar el \"Rango Intercuartil\" =\n",
        "\n",
        "\n",
        "# Estimar los limites para conocer si existen valores atípicos.\n",
        "\n",
        "#LI= Q1 - 1.5RI= \n",
        "\n",
        "\n",
        "#LS = Q3 + 1.5RI\n"
      ],
      "metadata": {
        "id": "jOGO4OhRDLrr"
      },
      "execution_count": null,
      "outputs": []
    },
    {
      "cell_type": "code",
      "source": [
        "# Utilizar la función \"boxplot\" para generar el diagrama.\n"
      ],
      "metadata": {
        "id": "ZdryL1EdDdx0"
      },
      "execution_count": null,
      "outputs": []
    },
    {
      "cell_type": "code",
      "source": [],
      "metadata": {
        "id": "bzCCv_tt2gx7"
      },
      "execution_count": null,
      "outputs": []
    },
    {
      "cell_type": "markdown",
      "source": [
        "**b) En que rango de datos existe menos variación?**"
      ],
      "metadata": {
        "id": "R3-e26ayYnMF"
      }
    },
    {
      "cell_type": "code",
      "source": [],
      "metadata": {
        "id": "ziPQW8hvYsEZ"
      },
      "execution_count": null,
      "outputs": []
    },
    {
      "cell_type": "markdown",
      "source": [
        "**c) En que rango de datos existe más variación?**"
      ],
      "metadata": {
        "id": "yuzmyCVdYtgO"
      }
    },
    {
      "cell_type": "code",
      "source": [],
      "metadata": {
        "id": "O7QRfdzXYwnJ"
      },
      "execution_count": null,
      "outputs": []
    },
    {
      "cell_type": "markdown",
      "source": [
        "**d) Cuál es la forma o distribución de los datos?**"
      ],
      "metadata": {
        "id": "u0pt5A-UYxH_"
      }
    },
    {
      "cell_type": "code",
      "source": [],
      "metadata": {
        "id": "M7bnTC2UY4Yo"
      },
      "execution_count": null,
      "outputs": []
    },
    {
      "cell_type": "markdown",
      "source": [
        "**e) Qué porcentaje de datos son menores que el valor mínimo?**"
      ],
      "metadata": {
        "id": "nqDu8BNOY5Fn"
      }
    },
    {
      "cell_type": "code",
      "source": [],
      "metadata": {
        "id": "A8dIITykY9pq"
      },
      "execution_count": null,
      "outputs": []
    },
    {
      "cell_type": "markdown",
      "source": [
        "**f) Qué porcentaje de datos son mayores que el cuartil 3?**"
      ],
      "metadata": {
        "id": "Ccv8oHXxZGt5"
      }
    },
    {
      "cell_type": "code",
      "source": [],
      "metadata": {
        "id": "uvYMzdm6ZIT4"
      },
      "execution_count": null,
      "outputs": []
    },
    {
      "cell_type": "markdown",
      "source": [
        "**g) Dado la forma de los datos, ¿cómo es la media con respecto a la mediana?**"
      ],
      "metadata": {
        "id": "vp9T59H6ZKKx"
      }
    },
    {
      "cell_type": "code",
      "source": [],
      "metadata": {
        "id": "qR66YMskZPWP"
      },
      "execution_count": null,
      "outputs": []
    },
    {
      "cell_type": "markdown",
      "source": [
        "---\n",
        "###**Actividad 1.7.**Comparar la variación de los datos a través de un gráfico y las medidas de dispersión.\n"
      ],
      "metadata": {
        "id": "76UNzVuDEWs2"
      }
    },
    {
      "cell_type": "markdown",
      "source": [
        "**1. Gráfica los datos que se presentan a continuación:**\n",
        "\n",
        "Un experimento informal fue realizado por la secundaría McNair Academic de Jersey City, Nueva Jersey, para investigar el uso de computadoras portátiles como herramienta de aprendizaje en el estudio del álgebra. Un grupo de 20 estudiantes de primer año recibió computadoras para usar en la escuela y en casa, al mismo tiempo a otro grupo de 27 no se les dieron laptops; no obstante muchos de éstos podían usarlas en casa. Las calificaciones del examen final para los dos grupos se muestran a continuación:\n",
        "\n",
        "|Laptop\n",
        "|:--- |\n",
        "|98,\t88,\t100,\t68,\t90,\t84,\t57,\t81,\t84,\t57,\t97,\t100,\t78,\t47,\t94,\t93,\t84,\t83,\t93,\t83|\n",
        "\n",
        "|No Laptop|\n",
        "|:--- |\n",
        "|63,\t86,\t78,\t83,\t81,\t29,\t97,\t84,\t64,\t93,\t99,\t74,\t52,\t91,\t72,\t74,\t49,\t89,\t83,\t80,\t67,\t63,\t81,\t89,\t88,\t89,\t70|\n",
        "\t\t\t\t\t\t\t\n",
        "\n"
      ],
      "metadata": {
        "id": "zagGQvK5EtbF"
      }
    },
    {
      "cell_type": "markdown",
      "source": [
        "**a) Qué conjunto de datos tiene más variación? justifica tu respuesta.**"
      ],
      "metadata": {
        "id": "foH-62QoG1wZ"
      }
    },
    {
      "cell_type": "code",
      "source": [
        "# Crear el vector \"Laptos\"\n",
        "\n",
        "\n",
        "# Crear el vector \"No_Laptos\"\n",
        "\n",
        "\n"
      ],
      "metadata": {
        "id": "4561UKHyG4yr"
      },
      "execution_count": null,
      "outputs": []
    },
    {
      "cell_type": "code",
      "source": [
        "# Ordenar los datos(Laptos)\n"
      ],
      "metadata": {
        "id": "jxxbdF8DMEj_"
      },
      "execution_count": null,
      "outputs": []
    },
    {
      "cell_type": "code",
      "source": [
        "# Ordenar los datos (No_Laptos)\n"
      ],
      "metadata": {
        "id": "5yPxSIF95zoH"
      },
      "execution_count": null,
      "outputs": []
    },
    {
      "cell_type": "code",
      "source": [
        "# Estimar la posisción Q1= n*j\n",
        "\n"
      ],
      "metadata": {
        "id": "4kd22Rh26Sd-"
      },
      "execution_count": null,
      "outputs": []
    },
    {
      "cell_type": "code",
      "source": [
        "# Estimar el Q2 = n*j\n"
      ],
      "metadata": {
        "id": "M7ERI_Nq7S32"
      },
      "execution_count": null,
      "outputs": []
    },
    {
      "cell_type": "code",
      "source": [
        "# Estimar el Q3= n*j\n",
        "\n"
      ],
      "metadata": {
        "id": "x7jVMvmb7lz1"
      },
      "execution_count": null,
      "outputs": []
    },
    {
      "cell_type": "code",
      "source": [
        "# No Laptos\n",
        "# Estimar la posisción el Q1= nj\n",
        "\n",
        "\n",
        "#Valor Q1=\n",
        "\n",
        "# Estimar la posisción Q2= nj\n",
        "\n",
        "\n",
        "#Valor del Q2=\n",
        "\n",
        "# Estimar la posición Q3=nj\n",
        "\n",
        "#Valor Q3="
      ],
      "metadata": {
        "colab": {
          "base_uri": "https://localhost:8080/",
          "height": 52
        },
        "id": "4uUBk_x18MbW",
        "outputId": "3f0bd6ec-af48-4a18-cc2c-19c8733daf8f"
      },
      "execution_count": null,
      "outputs": [
        {
          "output_type": "display_data",
          "data": {
            "text/html": [
              "13.5"
            ],
            "text/markdown": "13.5",
            "text/latex": "13.5",
            "text/plain": [
              "[1] 13.5"
            ]
          },
          "metadata": {}
        },
        {
          "output_type": "display_data",
          "data": {
            "text/html": [
              "20.25"
            ],
            "text/markdown": "20.25",
            "text/latex": "20.25",
            "text/plain": [
              "[1] 20.25"
            ]
          },
          "metadata": {}
        }
      ]
    },
    {
      "cell_type": "code",
      "source": [],
      "metadata": {
        "id": "nhd-6Ze8BNmA"
      },
      "execution_count": null,
      "outputs": []
    },
    {
      "cell_type": "markdown",
      "source": [
        "**b) Si observas la medida de tendencia central que se muestra en las graficas, ¿qué puedes decir, son iguales, diferentes? justfica tu respuesta.**"
      ],
      "metadata": {
        "id": "fBN-2dg6G5mY"
      }
    },
    {
      "cell_type": "markdown",
      "source": [
        "**c) En qué intervalo hay menor variabilidad?**"
      ],
      "metadata": {
        "id": "PVX6aYPNHAS8"
      }
    },
    {
      "cell_type": "markdown",
      "source": [
        "---\n",
        "####**2. Estimar las medidas de dispersión y relacionar los sresultados con las gráficas.**\n",
        "<br>\n",
        "\n",
        "#####**Medidas de dispersión:**\n",
        "\n",
        "**Amplitud=** $Valor Máximo - Valor Mínimo$\n",
        "\n",
        "**Varianza muestral=** $s^2=\\frac{1}{n-1}{\\sum_{i=1}^{n}\\left(x_i-\\bar{x}\\right)^2}$\n",
        "\n",
        "**Varianza poblacional=**$\\sigma^2=\\frac{1}{N}{\\sum_{i=1}^{N}\\left(x_i-\\mu\\right)^2}$\n",
        "\n",
        "**Desviación estándar o típica.** Se calcula como raíz cuadrada de la varianza.\n",
        "\n",
        "\n",
        "**Amplitud intercuartil=** $Q_3 -Q_1$"
      ],
      "metadata": {
        "id": "Z3YvTnDhYb7w"
      }
    },
    {
      "cell_type": "markdown",
      "source": [
        "**a) Estimar las medidas de dispersión para el conjunto de datos \"Laptos\".**"
      ],
      "metadata": {
        "id": "pHfMi4hCIRka"
      }
    },
    {
      "cell_type": "markdown",
      "source": [
        "- **Estimar amplitud:**\n",
        "\n",
        "$Valor Máximo - Valor Mínimo$"
      ],
      "metadata": {
        "id": "YsdJO1sqJirX"
      }
    },
    {
      "cell_type": "code",
      "source": [],
      "metadata": {
        "id": "h7g1LLa6IqG8"
      },
      "execution_count": null,
      "outputs": []
    },
    {
      "cell_type": "markdown",
      "source": [
        "- **Estimar varianza muestral:**\n",
        "\n",
        "$s^2=\\frac{1}{n-1}{\\sum_{i=1}^{n}\\left(x_i-\\bar{x}\\right)^2}$"
      ],
      "metadata": {
        "id": "mQsohCMWJzov"
      }
    },
    {
      "cell_type": "code",
      "source": [
        "#Estimar la media =\n"
      ],
      "metadata": {
        "id": "hbXmDP6-KEUw"
      },
      "execution_count": null,
      "outputs": []
    },
    {
      "cell_type": "code",
      "source": [],
      "metadata": {
        "id": "OowzSKTqDklx"
      },
      "execution_count": null,
      "outputs": []
    },
    {
      "cell_type": "code",
      "source": [],
      "metadata": {
        "id": "r-UNWbG-EguJ"
      },
      "execution_count": null,
      "outputs": []
    },
    {
      "cell_type": "markdown",
      "source": [
        "**Estimar la varianza poblacional.**\n",
        "\n",
        "Si se trabaja con una muestra, se puede estimar el valor de la varianza poblacional de la siguiente manera: $s^2 * (n-1) / n$\n"
      ],
      "metadata": {
        "id": "kpsPWwawMs7y"
      }
    },
    {
      "cell_type": "code",
      "source": [],
      "metadata": {
        "id": "QBU18H47N9g1"
      },
      "execution_count": null,
      "outputs": []
    },
    {
      "cell_type": "markdown",
      "source": [
        "- **Estimar desviación muestral.**"
      ],
      "metadata": {
        "id": "rznv22HvKJzl"
      }
    },
    {
      "cell_type": "code",
      "source": [
        "# Estimar desviación muestral\n"
      ],
      "metadata": {
        "id": "J6v7U9HmKauU"
      },
      "execution_count": null,
      "outputs": []
    },
    {
      "cell_type": "markdown",
      "source": [
        "- **Estimar desviación poblacional.**"
      ],
      "metadata": {
        "id": "4GTr2fmYKbaa"
      }
    },
    {
      "cell_type": "code",
      "source": [],
      "metadata": {
        "id": "Z1mXADrlSFW-"
      },
      "execution_count": null,
      "outputs": []
    },
    {
      "cell_type": "markdown",
      "source": [
        "**a) Estimar las medidas de dispersión para el conjunto de datos \"No Laptos\".**"
      ],
      "metadata": {
        "id": "cXcVuo-jLP2P"
      }
    },
    {
      "cell_type": "markdown",
      "source": [
        "- **Estimar amplitud:**\n",
        "\n",
        "$Valor Máximo - Valor Mínimo$"
      ],
      "metadata": {
        "id": "pxUP3cP8LP2R"
      }
    },
    {
      "cell_type": "code",
      "source": [],
      "metadata": {
        "id": "xpzs6_l1LP2T"
      },
      "execution_count": null,
      "outputs": []
    },
    {
      "cell_type": "markdown",
      "source": [
        "- **Estimar varianza muestral:**\n",
        "\n",
        "$s^2=\\frac{1}{n-1}{\\sum_{i=1}^{n}\\left(x_i-\\bar{x}\\right)^2}$"
      ],
      "metadata": {
        "id": "nlGEWyqcLP2U"
      }
    },
    {
      "cell_type": "code",
      "source": [],
      "metadata": {
        "id": "y88T5r3aLP2V"
      },
      "execution_count": null,
      "outputs": []
    },
    {
      "cell_type": "markdown",
      "source": [
        "**Estimar la varianza poblacional.**\n",
        "\n",
        "Si se trabaja con una muestra, se puede estimar el valor de la varianza poblacional de la siguiente manera: $s^2 * (n-1) / n$\n"
      ],
      "metadata": {
        "id": "0_zInamOLP2V"
      }
    },
    {
      "cell_type": "code",
      "source": [],
      "metadata": {
        "id": "zuo3pEvJLP2W"
      },
      "execution_count": null,
      "outputs": []
    },
    {
      "cell_type": "markdown",
      "source": [
        "- **Estimar desviación muestral.**"
      ],
      "metadata": {
        "id": "I7_IVLU6LP2W"
      }
    },
    {
      "cell_type": "code",
      "source": [],
      "metadata": {
        "id": "Gko8GhKjLP2X"
      },
      "execution_count": null,
      "outputs": []
    },
    {
      "cell_type": "markdown",
      "source": [
        "- **Estimar desviación poblacional.**"
      ],
      "metadata": {
        "id": "0inZ3aGuLP2X"
      }
    },
    {
      "cell_type": "code",
      "source": [],
      "metadata": {
        "id": "71PHxndJSP31"
      },
      "execution_count": null,
      "outputs": []
    },
    {
      "cell_type": "markdown",
      "source": [
        "**3. Crear tabala para los resultados obtenidos.**"
      ],
      "metadata": {
        "id": "K2ikNuSGLP2X"
      }
    },
    {
      "cell_type": "code",
      "source": [
        "# Crear el vector \"variación_laptos\"\n",
        "\n",
        "# Crear el vector \"variación_no_laptos\"\n",
        "\n",
        "#Utilizar la función cbind para unir los vectores"
      ],
      "metadata": {
        "id": "d5glaWhpLP2Y"
      },
      "execution_count": null,
      "outputs": []
    },
    {
      "cell_type": "markdown",
      "source": [
        "\n",
        "\n",
        "---\n",
        "\n",
        "\n",
        "###**Actividad 1.8.** Descripción de los datos utilizando un fráfico."
      ],
      "metadata": {
        "id": "YezZ_eHXaIEd"
      }
    },
    {
      "cell_type": "markdown",
      "source": [
        "<div style=\"text-align: justify\">\n",
        "\n",
        "Las propiedades mecánicas permisibles para el diseño estructural de vehículos aeroespaciales metálicos requieren un método aprobado para analizar estadísticamente los datos de prueba empíricos. El artículo “Establishing Mechanical Property allowables for metals” (J. of Testing and evaluatiion, 1998: 293-299) utilizó los datos anexos sobre resitencia a la tensión última ( Kg/pulg^2) como base para abordar las dificultades que se presentan en el desarrollo de dicho método.\n",
        "\n",
        "<div/>\n",
        "\n",
        "\n",
        "|Resistencia al esfuerzo cortante (lb)                              \n",
        ":-----------------------------------------------------\n",
        "|122.2, 124.2, 124.3, 125.6, 126.3, 126.5, 126.5, 127.2, 127.3, 127.5, 127.9, 128.6, 128.8, 129.0, 129.2, 129.4, 129.6, 130.2, 130.4, 130.8, 131.3, 131.4, 131.4, 131.5, 131.6, 131.6, 131.8, 131.8,  |\n",
        "|132.3, 132.4, 132.4, 132.5, 132.5, 132.5, 132.5, 132.6, 132.7, 132.9, 133.0, 133.1, 133.1, 133.1, 133.1, 133.2, 133.2, 133.2, 133.3, 133.3, 133.5, 133.5, 133.5, 133.8, 133.9, 134.0, 134.0, 134.0, |\n",
        "|134.0, 134.1, 134.2, 134.3, 134.4, 134.4, 134.6, 134.7, 134.7, 134.7, 134.8, 134.8, 134.8, 134.9, 134.9, 135.2, 135.2, 135.2, 135.3, 135.3, 135.4, 135.5, 135.5, 135.6, 135.6, 135.7, 135.8, 135.8, |\n",
        "|135.8, 135.8, 135.8, 135.9, 135.9, 135.9, 135.9, 136.0, 136.0, 136.1, 136.2, 136.2, 136.3, 136.4, 136.4, 136.6, 136.8, 136.9, 136.9, 137.0, 137.1, 137.2, 137.6, 137.6, 137.8, 137.8, 137.8, 137.9, |\n",
        "|137.9, 138.2, 138.2, 138.3, 138.3, 138.4, 138.4, 138.4, 138.5, 138.5, 138.6, 138.7, 138.7, 139.0, 139.1, 139.5, 139.6, 139.8, 139.8, 140.0, 140.0, 140.7, 140.7, 140.9, 140.9, 141.2, 141.4, 141.5, |\n",
        "|141.6, 142.9, 143.4, 143.5, 143.6, 143.8, 143.8, 143.9, 144.1, 144.5, 144.5, 147.7, 147.7|"
      ],
      "metadata": {
        "id": "LCTUcqnlahs6"
      }
    },
    {
      "cell_type": "markdown",
      "source": [
        "###**Elaborar un diagrama de tallo y hojas.**\n",
        "\n",
        "```\n",
        "# Se utiliza el código \"stem\"\n",
        "  stem(vector, scale=)\n",
        "\n",
        "  Para el argumento scale se tienen las siguientes opciones:\n",
        "  \n",
        "  - scale= 0 --> Agrupa los tallos\n",
        "\n",
        "  Ejemplo:\n",
        "  The decimal point is 1 digit(s) to the right of the |\n",
        "\n",
        "  0 | 256                 # <-- 12, 15, 16\n",
        "  2 | 1490123             # <-- 21, 24, 29, 30, 31, 32, 33\n",
        "  4 | 569028              # <-- 45, 46, 49, 50, 52, 58\n",
        "  6 | 0345                # <-- 60, 63, 64, 65\n",
        "\n",
        "  El primer tallo es para 0 y 1, el segundo para 2,3, etc.\n",
        "\n",
        "   - scale= 2 --> Presenta todos los tallos, con criterio de 0 - 9.\n",
        "  \n",
        "  Ejemplo: \n",
        "  he decimal point is 1 digit(s) to the right of the |\n",
        "\n",
        "  1 | 256                 # <-- 12, 15, 16\n",
        "  2 | 149                 # <-- 21, 24, 29\n",
        "  3 | 0123                # <-- 30, 31, 32, 33\n",
        "  4 | 569                 # <-- 45, 46, 49\n",
        "  5 | 028                 # <-- 50, 52, 58\n",
        "  6 | 0345                # <-- 60, 63, 64, 65\n",
        "\n",
        "  - scale= 3 --> Cada tallo se duplicará, el primero de los tallos duplicados muestra las hojas correspondientes a valores inferiores a 5 \n",
        " y el segundo las hojas correspondientes a valores iguales o superiores a 5.\n",
        "\n",
        "  Ejemplo:\n",
        "  he decimal point is 1 digit(s) to the right of the |\n",
        "\n",
        "  1 | 2                   # <-- 12\n",
        "  1 | 56                  # <-- 15, 16\n",
        "  2 | 14\n",
        "  2 | 9\n",
        "  3 | 0123\n",
        "  3 | \n",
        "  4 | \n",
        "  4 | 569\n",
        "  5 | 02\n",
        "  5 | 8\n",
        "  6 | 034\n",
        "  6 | 5\n",
        "```\n",
        "\n"
      ],
      "metadata": {
        "id": "r7Rtjk3Jdine"
      }
    },
    {
      "cell_type": "code",
      "source": [
        "# Crear el vector \"resistencia_e\"\n"
      ],
      "metadata": {
        "id": "5Aqg2VnrhiVI"
      },
      "execution_count": null,
      "outputs": []
    },
    {
      "cell_type": "code",
      "source": [
        "# Elaborar diagrama de tallo y hojas\n"
      ],
      "metadata": {
        "id": "ZoM31YQBh4RY"
      },
      "execution_count": null,
      "outputs": []
    },
    {
      "cell_type": "code",
      "source": [
        "#Ordenar los datos\n"
      ],
      "metadata": {
        "id": "lWo12SWuaBHw"
      },
      "execution_count": null,
      "outputs": []
    },
    {
      "cell_type": "markdown",
      "source": [
        "**a) Cuál es el valor de resistencia a la tensión de los datos anteriores?**"
      ],
      "metadata": {
        "id": "ICby7MjPcgIc"
      }
    },
    {
      "cell_type": "markdown",
      "source": [
        "**b) Qué porcentaje de observaciones de tensión son mayores o iguales a 135.6 Kg/pulg^2?**"
      ],
      "metadata": {
        "id": "UDw6uTNOdFLC"
      }
    },
    {
      "cell_type": "markdown",
      "source": [
        "**c) Cómo es la distribución de los datos?** "
      ],
      "metadata": {
        "id": "VfEs0ZeBdIx9"
      }
    },
    {
      "cell_type": "markdown",
      "source": [
        "**d) Dado la forma de los datos, ¿cómo es la media con respecto a la mediana?**"
      ],
      "metadata": {
        "id": "DySmNlGDdNAt"
      }
    },
    {
      "cell_type": "markdown",
      "source": [
        "**e) Qué porcentaje de observaciones de tensión está, entre 132.4 Kg/pulg\\^2 y 138.6 Kg/pulg^2?**"
      ],
      "metadata": {
        "id": "-FBVGoY8dS-u"
      }
    },
    {
      "cell_type": "markdown",
      "source": [
        "\n",
        "**f) Cuál es valor que es mayor o igual al 35% de las observaciones?**"
      ],
      "metadata": {
        "id": "pBoiahQKdWx1"
      }
    },
    {
      "cell_type": "markdown",
      "source": [
        "**g) Cuál es el valor que es menor que el 10% de las observaciones?**"
      ],
      "metadata": {
        "id": "zPZxgZkudWeu"
      }
    },
    {
      "cell_type": "markdown",
      "source": [
        "---\n",
        "###**Actividad 1.9.** Estimación de medidas para datos agrupados."
      ],
      "metadata": {
        "id": "7-gq8OKJtmpM"
      }
    },
    {
      "cell_type": "markdown",
      "source": [
        "**La siguiente tabla se realizo con** $n= 153$ **observaciones del esfuerzo a la tensión.**"
      ],
      "metadata": {
        "id": "8-aPdloUuMKX"
      }
    },
    {
      "cell_type": "markdown",
      "source": [
        "<center>\n",
        "\n",
        "| Intervalos | LI  | LS  | fa  |  fr  |\n",
        "|:-----------|:---:|:---:|:---:|:----:|\n",
        "| 1          | 120 | 125 |  3  | 0.02 |\n",
        "| 2          | 125 |     | 14  | 0.09 |\n",
        "| 3          | 130 | 135 |     | 0.35 |\n",
        "| 4          |     | 140 | 62  | 0.41 |\n",
        "| 5          | 140 | 145 | 18  |      |\n",
        "| 6          | 145 |     |  2  | 0.01 |\n",
        "\n",
        "</center>"
      ],
      "metadata": {
        "id": "tzia2Yzduz1-"
      }
    },
    {
      "cell_type": "markdown",
      "source": [
        "a\\) Completar la tabla anterior."
      ],
      "metadata": {
        "id": "rkRrvlqTu_s1"
      }
    },
    {
      "cell_type": "markdown",
      "source": [
        "b\\) Calcular la media, mediana y moda para datos agrupados.\n",
        "\n",
        "\n",
        "|Medidas | Estimador |Descripción |\n",
        "|:-----------|:---:|:---:|\n",
        "| Media         | $$\\bar{x}= \\frac{\\sum{x_i} f_a}{ n-1}$$|$$x_i = Marca\\enspace de \\enspace clase$$ |\n",
        "| Mediana| $$L_i + (\\frac{\\frac{n}{2}-f_{a-1}}{f_a})* A$$|$$f_{a-1}= faa\\enspace anterior\\enspace al\\enspace intervalo$$|\n",
        "| Moda| $$L_i + \\frac{f_a-f_{a-1}}{(f_a-f_{a-1})+(f_a-f_{a-1})}* A$$|\n",
        "\n",
        "\n"
      ],
      "metadata": {
        "id": "M4EAMUxTvF17"
      }
    },
    {
      "cell_type": "markdown",
      "source": [
        "\n",
        "c\\) Calcular la desviación estándar y la varianza para datos agrupados.\n",
        "\n",
        "|Medidas | Estimador |\n",
        "|:-----------|:---:|\n",
        "| Varianza muestral | $$S^{2}= \\frac{\\sum_{{i=1}{^k}} f_a(x_i-\\bar{x})^2}{ n-1}$$|\n",
        "| Desviación muestral|$$S=\\sqrt{\\frac{\\sum_{{i=1}{^k}} f_a(x_i-\\bar{x})^2}{ n-1}}$$|f_{a-1}= faa\\enspace \n",
        "\n",
        "$k$: número de clases.\n",
        "\n",
        "$fa$: frecuencia absoluta de cada clase, es decir, el número de elementos que pertenecen a dicha clase.\n",
        "\n",
        "$xi$: marca de clase. Es el punto medio del límite inferior y del límite superior."
      ],
      "metadata": {
        "id": "qcJpTJscvJxH"
      }
    },
    {
      "cell_type": "markdown",
      "source": [
        "d\\) Describir la tabla de datos."
      ],
      "metadata": {
        "id": "Kut61fgJvPHK"
      }
    },
    {
      "cell_type": "markdown",
      "source": [
        "e\\) Qué porcentaje de observaciones son mayores que 135?\n",
        "\n",
        "\n",
        "\n",
        "```\n",
        "#Posisción de un vector.\n",
        "x <- c(4,5,8,9,1,12,5,8,4)\n",
        "x[x=2]\n",
        "```\n",
        "\n"
      ],
      "metadata": {
        "id": "rbMhEwQRvT6Z"
      }
    },
    {
      "cell_type": "markdown",
      "source": [
        "\n",
        "f\\) Cuál es el valor mínimo? Cuál es el valor máximo?"
      ],
      "metadata": {
        "id": "R1tHcKhjvYxO"
      }
    },
    {
      "cell_type": "markdown",
      "source": [
        "g\\) Qué tanto crees que se acercan las medidas antes calculadas a las medidas reales, en el caso de tener los datos? justifica la respuesta."
      ],
      "metadata": {
        "id": "_TbXcvCNvdE0"
      }
    }
  ]
}